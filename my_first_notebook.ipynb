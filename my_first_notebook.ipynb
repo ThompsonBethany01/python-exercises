{
 "cells": [
  {
   "cell_type": "markdown",
   "metadata": {},
   "source": [
    "# Python Exercises"
   ]
  },
  {
   "cell_type": "code",
   "execution_count": 1,
   "metadata": {},
   "outputs": [
    {
     "name": "stdout",
     "output_type": "stream",
     "text": [
      "Mawwiage. Mawwiage is wat bwings us togeder today. Mawwiage, that bwessed awwangement, that dweam wifin a dream… And wuv, twue wuv, will fowwow you foweva… So tweasure your wuv—\n"
     ]
    }
   ],
   "source": [
    "greeting = 'Mawwiage. Mawwiage is wat bwings us togeder today. Mawwiage, that bwessed awwangement, that dweam wifin a dream… And wuv, twue wuv, will fowwow you foweva… So tweasure your wuv—'\n",
    "print(greeting)"
   ]
  },
  {
   "cell_type": "code",
   "execution_count": 3,
   "metadata": {},
   "outputs": [
    {
     "name": "stdout",
     "output_type": "stream",
     "text": [
      "177\n"
     ]
    }
   ],
   "source": [
    "greeting_count = len(greeting)\n",
    "print(greeting_count)"
   ]
  },
  {
   "cell_type": "code",
   "execution_count": 11,
   "metadata": {},
   "outputs": [
    {
     "name": "stdout",
     "output_type": "stream",
     "text": [
      "Mawwiage. Mawwiage is wat bwings us togeder today. Mawwiage, that bwessed awwangement, that dweam wifin a dream… And wuv, twue wuv, will fowwow you foweva… So tweasure your wuv—Skip to the end!\n"
     ]
    }
   ],
   "source": [
    "interuption = greeting + 'Skip to the end!'\n",
    "print(interuption)"
   ]
  },
  {
   "cell_type": "markdown",
   "metadata": {},
   "source": [
    "# Jupyter Shortcuts"
   ]
  },
  {
   "cell_type": "markdown",
   "metadata": {},
   "source": [
    "### Shift + Enter: \n",
    "#### run the current cell, select below\n",
    "### Alt + Enter: \n",
    "#### run the current cell, insert below\n",
    "### Ctrl + S: \n",
    "#### save and checkpoint"
   ]
  }
 ],
 "metadata": {
  "kernelspec": {
   "display_name": "Python 3",
   "language": "python",
   "name": "python3"
  },
  "language_info": {
   "codemirror_mode": {
    "name": "ipython",
    "version": 3
   },
   "file_extension": ".py",
   "mimetype": "text/x-python",
   "name": "python",
   "nbconvert_exporter": "python",
   "pygments_lexer": "ipython3",
   "version": "3.7.6"
  }
 },
 "nbformat": 4,
 "nbformat_minor": 4
}
