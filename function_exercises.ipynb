{
 "cells": [
  {
   "cell_type": "markdown",
   "metadata": {},
   "source": [
    "Define a function named is_two. It should accept one input and return True if the passed input is either the number or the string 2, False otherwise."
   ]
  },
  {
   "cell_type": "code",
   "execution_count": 176,
   "metadata": {},
   "outputs": [],
   "source": [
    "def is_two(var):\n",
    "    \n",
    "    #gives an assertion error if the value entered called through the function is not a string or integer\n",
    "    assert type(var) == int or type(var) == str, \"Invalid input - must be string or integer. Try again.\"\n",
    "    \n",
    "    #conditional is only true if the value called through the function is 2 in int or str form\n",
    "    if var == 2 or var == '2':\n",
    "        return True\n",
    "    else:\n",
    "        return False"
   ]
  },
  {
   "cell_type": "code",
   "execution_count": 177,
   "metadata": {},
   "outputs": [
    {
     "data": {
      "text/plain": [
       "True"
      ]
     },
     "execution_count": 177,
     "metadata": {},
     "output_type": "execute_result"
    }
   ],
   "source": [
    "is_two(2)"
   ]
  },
  {
   "cell_type": "markdown",
   "metadata": {},
   "source": [
    "Define a function named is_vowel. It should return True if the passed string is a vowel, False otherwise."
   ]
  },
  {
   "cell_type": "code",
   "execution_count": 178,
   "metadata": {},
   "outputs": [],
   "source": [
    "def is_vowel(str_var):\n",
    "    \n",
    "    #gives anassertion error if the value called through the function is not a string\n",
    "    assert type(str_var) == str, \"Invalid input for function parameter - must be string. Try again.\"\n",
    "    \n",
    "    #creates a set of vowels to compare with\n",
    "    vowels = set(\"aeiouAEIOU\")\n",
    "    \n",
    "    #conditional is true if the string is in the set vowels\n",
    "    if str_var in vowels:\n",
    "        return True\n",
    "    else:\n",
    "        return False"
   ]
  },
  {
   "cell_type": "code",
   "execution_count": 190,
   "metadata": {},
   "outputs": [
    {
     "data": {
      "text/plain": [
       "False"
      ]
     },
     "execution_count": 190,
     "metadata": {},
     "output_type": "execute_result"
    }
   ],
   "source": [
    "is_vowel('a')"
   ]
  },
  {
   "cell_type": "markdown",
   "metadata": {},
   "source": [
    "Define a function named is_consonant. It should return True if the passed string is a consonant, False otherwise. Use your is_vowel function to accomplish this."
   ]
  },
  {
   "cell_type": "code",
   "execution_count": 219,
   "metadata": {},
   "outputs": [],
   "source": [
    "def is_consonant(char_var):\n",
    "    \n",
    "    #gives an assertion error if the value called through the function is not a string\n",
    "    assert type(char_var) == str, \"Invalid input for function parameter - must be string. Try again.\"\n",
    "    \n",
    "    #uses a function that checks vowels to determine if it is a consonant\n",
    "    #if is_vowel is true, it is not a consonant and therefore False to the outside function\n",
    "    #if is_vowel is false, it is a consonant and therefore True to the outside function\n",
    "    if is_vowel(char_var) == True:\n",
    "        return False\n",
    "    else:\n",
    "        return True"
   ]
  },
  {
   "cell_type": "code",
   "execution_count": 221,
   "metadata": {},
   "outputs": [
    {
     "data": {
      "text/plain": [
       "False"
      ]
     },
     "execution_count": 221,
     "metadata": {},
     "output_type": "execute_result"
    }
   ],
   "source": [
    "is_consonant('a')"
   ]
  },
  {
   "cell_type": "markdown",
   "metadata": {},
   "source": [
    "Define a function that accepts a string that is a word. The function should capitalize the first letter of the word if the word starts with a consonant."
   ]
  },
  {
   "cell_type": "code",
   "execution_count": 156,
   "metadata": {},
   "outputs": [],
   "source": [
    "def str_cap(word):\n",
    "    \n",
    "    #gives an error if the value called through the function is not a string\n",
    "    assert type(word) == str, \"Invalid input for function parameter - must be string. Try again.\"\n",
    "    \n",
    "    #creates a set of vowels to compare with\n",
    "    vowels = set(\"aeiou\")\n",
    "    \n",
    "    #conditional met if the word does not start with a vowel\n",
    "    if word[0] not in vowels:\n",
    "        #capitalizes the word\n",
    "        return word.capitalize()\n",
    "    else:\n",
    "        #returns print statement if word starts with vowel, number, etc.\n",
    "        return print('No capitalization needed.')"
   ]
  },
  {
   "cell_type": "code",
   "execution_count": 166,
   "metadata": {},
   "outputs": [
    {
     "ename": "AssertionError",
     "evalue": "Invalid input for function parameter - must be string. Try again.",
     "output_type": "error",
     "traceback": [
      "\u001b[0;31m---------------------------------------------------------------------------\u001b[0m",
      "\u001b[0;31mAssertionError\u001b[0m                            Traceback (most recent call last)",
      "\u001b[0;32m<ipython-input-166-390c8d0c0889>\u001b[0m in \u001b[0;36m<module>\u001b[0;34m\u001b[0m\n\u001b[0;32m----> 1\u001b[0;31m \u001b[0mstr_cap\u001b[0m\u001b[0;34m(\u001b[0m\u001b[0;36m123\u001b[0m\u001b[0;34m)\u001b[0m\u001b[0;34m\u001b[0m\u001b[0;34m\u001b[0m\u001b[0m\n\u001b[0m",
      "\u001b[0;32m<ipython-input-156-5754ab0304a1>\u001b[0m in \u001b[0;36mstr_cap\u001b[0;34m(word)\u001b[0m\n\u001b[1;32m      2\u001b[0m \u001b[0;34m\u001b[0m\u001b[0m\n\u001b[1;32m      3\u001b[0m     \u001b[0;31m#gives an error if the value called through the function is not a string\u001b[0m\u001b[0;34m\u001b[0m\u001b[0;34m\u001b[0m\u001b[0;34m\u001b[0m\u001b[0m\n\u001b[0;32m----> 4\u001b[0;31m     \u001b[0;32massert\u001b[0m \u001b[0mtype\u001b[0m\u001b[0;34m(\u001b[0m\u001b[0mword\u001b[0m\u001b[0;34m)\u001b[0m \u001b[0;34m==\u001b[0m \u001b[0mstr\u001b[0m\u001b[0;34m,\u001b[0m \u001b[0;34m\"Invalid input for function parameter - must be string. Try again.\"\u001b[0m\u001b[0;34m\u001b[0m\u001b[0;34m\u001b[0m\u001b[0m\n\u001b[0m\u001b[1;32m      5\u001b[0m \u001b[0;34m\u001b[0m\u001b[0m\n\u001b[1;32m      6\u001b[0m     \u001b[0;31m#creates a set of vowels to compare with\u001b[0m\u001b[0;34m\u001b[0m\u001b[0;34m\u001b[0m\u001b[0;34m\u001b[0m\u001b[0m\n",
      "\u001b[0;31mAssertionError\u001b[0m: Invalid input for function parameter - must be string. Try again."
     ]
    }
   ],
   "source": [
    "str_cap(123)"
   ]
  },
  {
   "cell_type": "raw",
   "metadata": {},
   "source": [
    "str_cap([egg, banana, car])"
   ]
  },
  {
   "cell_type": "code",
   "execution_count": 165,
   "metadata": {},
   "outputs": [
    {
     "name": "stdout",
     "output_type": "stream",
     "text": [
      "No capitalization needed.\n"
     ]
    }
   ],
   "source": [
    "str_cap('egg')"
   ]
  },
  {
   "cell_type": "code",
   "execution_count": 164,
   "metadata": {},
   "outputs": [
    {
     "data": {
      "text/plain": [
       "'Bananas'"
      ]
     },
     "execution_count": 164,
     "metadata": {},
     "output_type": "execute_result"
    }
   ],
   "source": [
    "str_cap('bananas')"
   ]
  },
  {
   "cell_type": "markdown",
   "metadata": {},
   "source": [
    "Define a function named calculate_tip. It should accept a tip percentage (a number between 0 and 1) and the bill total, and return the amount to tip."
   ]
  },
  {
   "cell_type": "code",
   "execution_count": 157,
   "metadata": {},
   "outputs": [],
   "source": [
    "def calculate_tip(tip, bill):\n",
    "    \n",
    "    #gives an error if values called through function are not decimals\n",
    "    assert type(tip) == float and type(bill) == float, \"Invalid input for function parameters - must be decimals. Try again.\"\n",
    "    \n",
    "    #calculates total tip to give by multiplying tip percent and total bill\n",
    "    tip_total = tip * bill\n",
    "    \n",
    "    #puts the amounts in dollar formatting\n",
    "    tip_total = \"${:,.2f}\".format(tip_total)\n",
    "    print(f\"The total tip to give is {tip_total}!\")\n",
    "    return tip_total"
   ]
  },
  {
   "cell_type": "code",
   "execution_count": 159,
   "metadata": {},
   "outputs": [
    {
     "name": "stdout",
     "output_type": "stream",
     "text": [
      "The total tip to give is $5.20!\n"
     ]
    },
    {
     "data": {
      "text/plain": [
       "'$5.20'"
      ]
     },
     "execution_count": 159,
     "metadata": {},
     "output_type": "execute_result"
    }
   ],
   "source": [
    "calculate_tip(.2, 25.99)"
   ]
  },
  {
   "cell_type": "markdown",
   "metadata": {},
   "source": [
    "Define a function named apply_discount. It should accept a original price, and a discount percentage, and return the price after the discount is applied."
   ]
  },
  {
   "cell_type": "code",
   "execution_count": 259,
   "metadata": {},
   "outputs": [],
   "source": [
    "def apply_discount(og_price, disc):\n",
    "    \n",
    "    #gives an error if that values passed through the function are not floats\n",
    "    assert type(og_price) == float and type(disc) == float, \"Invalid input for function parameters - must be decimals. Try again.\"\n",
    "    \n",
    "    #amount saved = the total price * the discount\n",
    "    saving = og_price * disc\n",
    "    #the new total is the old total - the amount saved\n",
    "    new_total = og_price - saving\n",
    "    \n",
    "    #puts the amounts in dollar formats\n",
    "    og_price = \"${:,.2f}\".format(og_price)\n",
    "    saving = \"${:,.2f}\".format(saving)\n",
    "    new_total = \"${:,.2f}\".format(new_total)\n",
    "    \n",
    "    #prints the amounts in a human readable output\n",
    "    print(f\"The original price was {og_price}. Your discount saved you {saving}! You're new price is {new_total}.\")\n",
    "    return new_total"
   ]
  },
  {
   "cell_type": "code",
   "execution_count": 266,
   "metadata": {},
   "outputs": [
    {
     "name": "stdout",
     "output_type": "stream",
     "text": [
      "The original price was $10.99. Your discount saved you $2.75! You're new price is $8.24.\n"
     ]
    },
    {
     "data": {
      "text/plain": [
       "'$8.24'"
      ]
     },
     "execution_count": 266,
     "metadata": {},
     "output_type": "execute_result"
    }
   ],
   "source": [
    "apply_discount(10.99, .25)"
   ]
  },
  {
   "cell_type": "markdown",
   "metadata": {},
   "source": [
    "Define a function named handle_commas. It should accept a string that is a number that contains commas in it as input, and return a number as output."
   ]
  },
  {
   "cell_type": "code",
   "execution_count": 160,
   "metadata": {},
   "outputs": [],
   "source": [
    "def handle_commas(num_str):\n",
    "    \n",
    "    #gives an error if the value called through the function is not a string\n",
    "    assert type(num_str) == str, \"Invalid input for function parameter - must be string. Try again.\"\n",
    "    \n",
    "    #creates an empty string to add the string values that are not commas\n",
    "    new_str = ''\n",
    "    \n",
    "    #loops through the original string\n",
    "    for char in num_str:\n",
    "        #continues the loop if the char is a comma\n",
    "        if char == ',':\n",
    "            continue\n",
    "        #adds to the new string if the char is not a comma\n",
    "        new_str += char\n",
    "        \n",
    "    #converts the value to an integer\n",
    "    int(new_str)\n",
    "    return new_str"
   ]
  },
  {
   "cell_type": "code",
   "execution_count": 161,
   "metadata": {},
   "outputs": [
    {
     "data": {
      "text/plain": [
       "'234245654676457'"
      ]
     },
     "execution_count": 161,
     "metadata": {},
     "output_type": "execute_result"
    }
   ],
   "source": [
    "handle_commas('234,245,654,676,457')"
   ]
  },
  {
   "cell_type": "markdown",
   "metadata": {},
   "source": [
    "Define a function named get_letter_grade. It should accept a number and return the letter grade associated with that number (A-F)."
   ]
  },
  {
   "cell_type": "code",
   "execution_count": 275,
   "metadata": {},
   "outputs": [],
   "source": [
    "def get_letter_grade(grade):\n",
    "    \n",
    "    #gives an error if the value called through the function is not an integer\n",
    "    assert type(grade) == int, \"Invalid input for function parameter - must be integer. Try again.\"\n",
    "    \n",
    "    #gives an output sentence\n",
    "    print('Your grade is: ')\n",
    "    \n",
    "    #conditionals to assign each grade its letter value\n",
    "    if 100 >= int(grade) >= 90:\n",
    "        return 'A'\n",
    "    \n",
    "    if 89 >= int(grade) >= 80:\n",
    "        return 'B'\n",
    "\n",
    "    if 79 >= int(grade) >= 70:\n",
    "        return 'C'\n",
    "\n",
    "    if 69 >= int(grade) >= 60:\n",
    "        return 'D'\n",
    "\n",
    "    if 59 >= int(grade) >= 0:\n",
    "        return 'F'"
   ]
  },
  {
   "cell_type": "code",
   "execution_count": 278,
   "metadata": {},
   "outputs": [
    {
     "name": "stdout",
     "output_type": "stream",
     "text": [
      "Your grade is: \n"
     ]
    },
    {
     "data": {
      "text/plain": [
       "'C'"
      ]
     },
     "execution_count": 278,
     "metadata": {},
     "output_type": "execute_result"
    }
   ],
   "source": [
    "get_letter_grade(78)"
   ]
  },
  {
   "cell_type": "markdown",
   "metadata": {},
   "source": [
    "Define a function named remove_vowels that accepts a string and returns a string with all the vowels removed."
   ]
  },
  {
   "cell_type": "code",
   "execution_count": 279,
   "metadata": {},
   "outputs": [],
   "source": [
    "def remove_vowels(my_str):\n",
    "    \n",
    "    #gives an error if the value passed through the function is not a string\n",
    "    assert type(my_str) == str, \"Invalid input for function parameter - must be string. Try again.\"\n",
    "    \n",
    "    #creates a set of vowels to compare with\n",
    "    vowels = set('aeiouAEIOU')\n",
    "    \n",
    "    #creates a new empty string\n",
    "    new_str = ''\n",
    "    for char in my_str:\n",
    "        if char not in vowels:\n",
    "            new_str += char\n",
    "    print(new_str)"
   ]
  },
  {
   "cell_type": "code",
   "execution_count": 280,
   "metadata": {},
   "outputs": [
    {
     "name": "stdout",
     "output_type": "stream",
     "text": [
      "bnns\n"
     ]
    }
   ],
   "source": [
    "remove_vowels('bananas')"
   ]
  },
  {
   "cell_type": "markdown",
   "metadata": {},
   "source": [
    "Define a function named normalize_name. It should accept a string and return a valid python identifier, that is:\n",
    "- anything that is not a valid python identifier should be removed\n",
    "- leading and trailing whitespace should be removed\n",
    "- everything should be lowercase\n",
    "- spaces should be replaced with underscores\n",
    "- for example:\n",
    "    - Name will become name\n",
    "    - First Name will become first_name\n",
    "    - % Completed will become completed"
   ]
  },
  {
   "cell_type": "code",
   "execution_count": 281,
   "metadata": {},
   "outputs": [],
   "source": [
    "def normalize_name(old_str):\n",
    "    assert type(old_str) == str, \"Invalid input for function parameter - must be string. Try again.\"\n",
    "    #sets empty string to be returned\n",
    "    new_str = ''\n",
    "    #all nonvalid python characters\n",
    "    remove = set(\"!@#$%^&*()+=-[]{}\\/|?.<>,`~\")\n",
    "    #removes leading and trailing whitespace\n",
    "    old_str = old_str.strip()\n",
    "    #makes all characters lowercase\n",
    "    old_str = old_str.lower()\n",
    "    #loops through old_str to check for nonvalid characters and spaces\n",
    "    for x in old_str:\n",
    "        #changes spaces to underscore\n",
    "        if x == ' ':\n",
    "            new_str += '_'\n",
    "            continue\n",
    "        #adds valid characters to new string\n",
    "        if x not in remove:\n",
    "            new_str += x\n",
    "    return new_str"
   ]
  },
  {
   "cell_type": "code",
   "execution_count": 282,
   "metadata": {},
   "outputs": [
    {
     "data": {
      "text/plain": [
       "'fg243_523_gndfjwc_t4g'"
      ]
     },
     "execution_count": 282,
     "metadata": {},
     "output_type": "execute_result"
    }
   ],
   "source": [
    "normalize_name(' @#$FG243 523# $%gNDFJwC# %$T4g ')"
   ]
  },
  {
   "cell_type": "markdown",
   "metadata": {},
   "source": [
    "Write a function named cumulative_sum that accepts a list of numbers and returns a list that is the cumulative sum of the numbers in the list.\n",
    "cumulative_sum([1, 1, 1]) returns [1, 2, 3]\n",
    "cumulative_sum([1, 2, 3, 4]) returns [1, 3, 6, 10]"
   ]
  },
  {
   "cell_type": "code",
   "execution_count": 297,
   "metadata": {},
   "outputs": [],
   "source": [
    "def cumulative_sum(num_list):\n",
    "    assert type(num_list) == list, \"Invalid input for function parameter - must be list. Try again.\"\n",
    "    assert type(num_list[0]) == int, \"Invalid input for function parameter - must be list of numbers. Try again.\"\n",
    "    new_list = []\n",
    "    count = 0\n",
    "    for x in num_list:\n",
    "        x += count\n",
    "        count = x\n",
    "        new_list.append(x)\n",
    "    return new_list"
   ]
  },
  {
   "cell_type": "code",
   "execution_count": 373,
   "metadata": {},
   "outputs": [
    {
     "data": {
      "text/plain": [
       "[1, 2, 3]"
      ]
     },
     "execution_count": 373,
     "metadata": {},
     "output_type": "execute_result"
    }
   ],
   "source": [
    "cumulative_sum([1,1,1])\n",
    "#cumulative_sum(['a','b','c'])"
   ]
  },
  {
   "cell_type": "markdown",
   "metadata": {},
   "source": [
    "# Bonus"
   ]
  },
  {
   "cell_type": "markdown",
   "metadata": {},
   "source": [
    "- Create a function named twelveto24. \n",
    "- It should accept a string in the format 10:45am or 4:30pm and return a string that is the representation of the time in a 24-hour format. \n",
    "- Bonus write a function that does the opposite."
   ]
  },
  {
   "cell_type": "code",
   "execution_count": 300,
   "metadata": {},
   "outputs": [],
   "source": [
    "#code not using imports\n",
    "def twelveto24(time_str):\n",
    "    assert type(time_str) == str, \"Invalid input for function parameter - must be string. Try again.\"\n",
    "    new_str = ''\n",
    "    twelve_stamp = set('ampm')\n",
    "    \n",
    "    if time_str[-2] == 'a':\n",
    "        for x in time_str:\n",
    "            if x not in twelve_stamp:\n",
    "                new_str += x\n",
    "                \n",
    "    if time_str[-2] == 'p':\n",
    "        \n",
    "        for x in time_str:\n",
    "            if x not in twelve_stamp:\n",
    "                new_str += x\n",
    "                \n",
    "        if len(new_str) == 4:\n",
    "            new_str = '0' + new_str\n",
    "            \n",
    "        old_hour = int(new_str[0:2])\n",
    "        new_hour = old_hour + 12\n",
    "        old_hour = str(old_hour)\n",
    "        new_hour = str(new_hour)\n",
    "        \n",
    "        new_str = new_str.replace(old_hour, new_hour)\n",
    "        \n",
    "        if len(new_str) == 6:\n",
    "            new_str = new_str.replace('0', '')\n",
    "        \n",
    "    return new_str"
   ]
  },
  {
   "cell_type": "code",
   "execution_count": 303,
   "metadata": {},
   "outputs": [
    {
     "data": {
      "text/plain": [
       "'24:45'"
      ]
     },
     "execution_count": 303,
     "metadata": {},
     "output_type": "execute_result"
    }
   ],
   "source": [
    "twelveto24('12:45pm')"
   ]
  },
  {
   "cell_type": "markdown",
   "metadata": {},
   "source": [
    "- Create a function named col_index. \n",
    "- It should accept a spreadsheet column name, and return the index number of the column.\n",
    "    - col_index('A') returns 1\n",
    "    - col_index('B') returns 2\n",
    "    - col_index('AA') returns 27"
   ]
  },
  {
   "cell_type": "code",
   "execution_count": 116,
   "metadata": {},
   "outputs": [],
   "source": [
    "def letter_value(letter):\n",
    "    count = 1\n",
    "    letters = 'ABCDEFGHIJKLMNOPQRSTUVWXYZ'\n",
    "    for char in letters:\n",
    "        if char != letter:\n",
    "            count += 1\n",
    "        else:\n",
    "            break\n",
    "    return count"
   ]
  },
  {
   "cell_type": "code",
   "execution_count": 117,
   "metadata": {},
   "outputs": [
    {
     "data": {
      "text/plain": [
       "26"
      ]
     },
     "execution_count": 117,
     "metadata": {},
     "output_type": "execute_result"
    }
   ],
   "source": [
    "letter_value('Z')"
   ]
  },
  {
   "cell_type": "code",
   "execution_count": 400,
   "metadata": {},
   "outputs": [],
   "source": [
    "def col_index(col_name):\n",
    "    total = 0\n",
    "    count = 0\n",
    "    for char in col_name:\n",
    "        col = letter_value(char)\n",
    "        addition = count * 26\n",
    "        total = col + addition\n",
    "        count += 1\n",
    "    return total"
   ]
  },
  {
   "cell_type": "code",
   "execution_count": 401,
   "metadata": {},
   "outputs": [
    {
     "data": {
      "text/plain": [
       "28"
      ]
     },
     "execution_count": 401,
     "metadata": {},
     "output_type": "execute_result"
    }
   ],
   "source": [
    "col_index('AB')"
   ]
  },
  {
   "cell_type": "code",
   "execution_count": 48,
   "metadata": {},
   "outputs": [],
   "source": [
    "def col_index(col_name):\n",
    "    \n",
    "    if len(col_name) == 1:\n",
    "        return letter_value(col_name)\n",
    "    \n",
    "    total = 0\n",
    "    if len(col_name) > 1:\n",
    "        first_letter = col_name[0]\n",
    "        times = letter_value(first_letter)\n",
    "        times = times * 26\n",
    "    \n",
    "        second_letter = col_name[1]\n",
    "        col = letter_value(second_letter)\n",
    "        total = col + times\n",
    "        \n",
    "    return total"
   ]
  },
  {
   "cell_type": "code",
   "execution_count": 49,
   "metadata": {},
   "outputs": [
    {
     "data": {
      "text/plain": [
       "702"
      ]
     },
     "execution_count": 49,
     "metadata": {},
     "output_type": "execute_result"
    }
   ],
   "source": [
    "col_index('ZZ')"
   ]
  },
  {
   "cell_type": "code",
   "execution_count": 131,
   "metadata": {},
   "outputs": [],
   "source": [
    "def col_index(col_name):\n",
    "    \n",
    "    #if only one letter, checks the value with function that assigned a value to each individual letter\n",
    "    if len(col_name) == 1:\n",
    "        return letter_value(col_name)\n",
    "    \n",
    "    #for two letters, the value is \n",
    "    total = 0\n",
    "    if len(col_name) == 2:\n",
    "        first_letter = col_name[0]\n",
    "        times = letter_value(first_letter)\n",
    "        times = times * 26\n",
    "    \n",
    "        second_letter = col_name[1]\n",
    "        col = letter_value(second_letter)\n",
    "        total = col + times\n",
    "        \n",
    "    if len(col_name) == 3:\n",
    "        first_letter = col_name[0]\n",
    "        times = letter_value(first_letter) + 1\n",
    "        times = 26 ** times\n",
    "        total = total + times\n",
    "        \n",
    "        second_letter = col_name[1]\n",
    "        second_times = letter_value(second_letter)\n",
    "        second_times *= 26\n",
    "        total = total + second_times\n",
    "        \n",
    "        third_letter = col_name[2]\n",
    "        col = letter_value(third_letter)\n",
    "        \n",
    "        total = total + col\n",
    "        \n",
    "    return total"
   ]
  },
  {
   "cell_type": "code",
   "execution_count": 132,
   "metadata": {},
   "outputs": [
    {
     "data": {
      "text/plain": [
       "703"
      ]
     },
     "execution_count": 132,
     "metadata": {},
     "output_type": "execute_result"
    }
   ],
   "source": [
    "col_index('AAA')"
   ]
  },
  {
   "cell_type": "code",
   "execution_count": null,
   "metadata": {},
   "outputs": [],
   "source": []
  }
 ],
 "metadata": {
  "kernelspec": {
   "display_name": "Python 3",
   "language": "python",
   "name": "python3"
  },
  "language_info": {
   "codemirror_mode": {
    "name": "ipython",
    "version": 3
   },
   "file_extension": ".py",
   "mimetype": "text/x-python",
   "name": "python",
   "nbconvert_exporter": "python",
   "pygments_lexer": "ipython3",
   "version": "3.7.6"
  }
 },
 "nbformat": 4,
 "nbformat_minor": 4
}
