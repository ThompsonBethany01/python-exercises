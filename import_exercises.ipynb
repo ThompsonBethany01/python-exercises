{
 "cells": [
  {
   "cell_type": "markdown",
   "metadata": {},
   "source": [
    "# 1. Import and test 3 of the functions from your functions exercise file.\n",
    "\n",
    "Import each function in a different way:\n",
    "\n",
    "import the module and refer to the function with the . syntax\n",
    "use from to import the function directly\n",
    "use from and give the function a different name"
   ]
  },
  {
   "cell_type": "markdown",
   "metadata": {},
   "source": [
    "### using import file_name"
   ]
  },
  {
   "cell_type": "code",
   "execution_count": 1,
   "metadata": {},
   "outputs": [],
   "source": [
    "import function_exercises"
   ]
  },
  {
   "cell_type": "code",
   "execution_count": 3,
   "metadata": {},
   "outputs": [
    {
     "data": {
      "text/plain": [
       "True"
      ]
     },
     "execution_count": 3,
     "metadata": {},
     "output_type": "execute_result"
    }
   ],
   "source": [
    "function_exercises.is_two(2)"
   ]
  },
  {
   "cell_type": "markdown",
   "metadata": {},
   "source": [
    "### using import and renaming file"
   ]
  },
  {
   "cell_type": "code",
   "execution_count": 4,
   "metadata": {},
   "outputs": [],
   "source": [
    "import function_exercises as fe"
   ]
  },
  {
   "cell_type": "code",
   "execution_count": 8,
   "metadata": {},
   "outputs": [
    {
     "data": {
      "text/plain": [
       "True"
      ]
     },
     "execution_count": 8,
     "metadata": {},
     "output_type": "execute_result"
    }
   ],
   "source": [
    "fe.is_vowel('a')"
   ]
  },
  {
   "cell_type": "markdown",
   "metadata": {},
   "source": [
    "### using import on specific function inside the file"
   ]
  },
  {
   "cell_type": "code",
   "execution_count": 9,
   "metadata": {},
   "outputs": [],
   "source": [
    "from function_exercises import str_cap"
   ]
  },
  {
   "cell_type": "code",
   "execution_count": 10,
   "metadata": {},
   "outputs": [
    {
     "data": {
      "text/plain": [
       "'Hello'"
      ]
     },
     "execution_count": 10,
     "metadata": {},
     "output_type": "execute_result"
    }
   ],
   "source": [
    "str_cap('hello')"
   ]
  },
  {
   "cell_type": "markdown",
   "metadata": {},
   "source": [
    "### using import on specific function inside the file and renaming"
   ]
  },
  {
   "cell_type": "code",
   "execution_count": 12,
   "metadata": {},
   "outputs": [],
   "source": [
    "from function_exercises import calculate_tip as tip"
   ]
  },
  {
   "cell_type": "code",
   "execution_count": 13,
   "metadata": {},
   "outputs": [
    {
     "name": "stdout",
     "output_type": "stream",
     "text": [
      "The total tip to give is $6.50!\n"
     ]
    },
    {
     "data": {
      "text/plain": [
       "'$6.50'"
      ]
     },
     "execution_count": 13,
     "metadata": {},
     "output_type": "execute_result"
    }
   ],
   "source": [
    "tip(.5, 12.99)"
   ]
  },
  {
   "cell_type": "markdown",
   "metadata": {},
   "source": [
    "## For the following exercises, read about and use the itertools module from the standard library to help you solve the problem."
   ]
  },
  {
   "cell_type": "markdown",
   "metadata": {},
   "source": [
    "# 2. How many different ways can you combine the letters from \"abc\" with the numbers 1, 2, and 3?"
   ]
  },
  {
   "cell_type": "code",
   "execution_count": 69,
   "metadata": {},
   "outputs": [],
   "source": [
    "#importing functions used to count permutations, combinations, etc\n",
    "from itertools import product"
   ]
  },
  {
   "cell_type": "code",
   "execution_count": 74,
   "metadata": {},
   "outputs": [
    {
     "name": "stdout",
     "output_type": "stream",
     "text": [
      "[('a', '1'), ('a', '2'), ('a', '3'), ('b', '1'), ('b', '2'), ('b', '3'), ('c', '1'), ('c', '2'), ('c', '3')]\n",
      "There are 9 different ways to combine the letters 'abc' with the numbers '123'.\n"
     ]
    }
   ],
   "source": [
    "#import product allows us to find all the unique combinations of different sets\n",
    "#'abc' will not be combined with each, same for '123'\n",
    "print (list(product('abc','123')))\n",
    "\n",
    "#finds the length of the list of different combinations from product function\n",
    "#converts this to a str to print out\n",
    "count = str(len(list(product('abc','123'))))\n",
    "print (\"There are \" + count + \" different ways to combine the letters 'abc' with the numbers '123'.\")"
   ]
  },
  {
   "cell_type": "markdown",
   "metadata": {},
   "source": [
    "# 3. How many different ways can you combine two of the letters from \"abcd\"?"
   ]
  },
  {
   "cell_type": "code",
   "execution_count": 79,
   "metadata": {},
   "outputs": [],
   "source": [
    "#importing the combination function specifically and renamed as c\n",
    "from itertools import combinations as c"
   ]
  },
  {
   "cell_type": "code",
   "execution_count": 81,
   "metadata": {},
   "outputs": [
    {
     "name": "stdout",
     "output_type": "stream",
     "text": [
      "[('a', 'b'), ('a', 'c'), ('a', 'd'), ('b', 'c'), ('b', 'd'), ('c', 'd')]\n",
      "There are 6 different ways to combine the letters 'abcd' by two with each other.\n"
     ]
    }
   ],
   "source": [
    "#we call the imported function with its alias\n",
    "#the output is a list of the different combinations\n",
    "print (list(c(['a','b','c','d'], 2)))\n",
    "\n",
    "#to find the amount of combinations, we take the length of the list\n",
    "#this is converted to a string for output\n",
    "count = str(len(list(c(['a','b','c','d'], 2))))\n",
    "print((\"There are \" + count + \" different ways to combine the letters 'abcd' by two with each other.\"))"
   ]
  },
  {
   "cell_type": "markdown",
   "metadata": {},
   "source": [
    "Save this file as profiles.json inside of your exercises directory."
   ]
  },
  {
   "cell_type": "markdown",
   "metadata": {},
   "source": [
    "# Use the load function from the json module to open this file, it will produce a list of dictionaries. Using this data, write some code that calculates and outputs the following information:\n",
    "\n",
    "- Total number of users\n",
    "- Number of active users\n",
    "- Number of inactive users\n",
    "- Grand total of balances for all users\n",
    "- Average balance per user\n",
    "- User with the lowest balance\n",
    "- User with the highest balance\n",
    "- Most common favorite fruit\n",
    "- Least most common favorite fruit\n",
    "- Total number of unread messages for all users"
   ]
  },
  {
   "cell_type": "code",
   "execution_count": 3,
   "metadata": {},
   "outputs": [],
   "source": [
    "#importing module to read json file\n",
    "import json"
   ]
  },
  {
   "cell_type": "code",
   "execution_count": 4,
   "metadata": {},
   "outputs": [],
   "source": [
    "#opens json file and stores it in a variable\n",
    "with open('profiles.json') as f:\n",
    "  data = json.load(f)"
   ]
  },
  {
   "cell_type": "code",
   "execution_count": 125,
   "metadata": {},
   "outputs": [],
   "source": [
    "#defines a function that counts the total users in the file\n",
    "def count_users(user_data):\n",
    "    \n",
    "    #each entry in the list is a dictionary of a users information\n",
    "    #the length of this list returns the amount of users\n",
    "    users = len(data)\n",
    "    print('The total number of active and inactive users is: ' + str(users))\n",
    "    return users"
   ]
  },
  {
   "cell_type": "code",
   "execution_count": 126,
   "metadata": {},
   "outputs": [
    {
     "name": "stdout",
     "output_type": "stream",
     "text": [
      "The total number of active and inactive users is: 19\n"
     ]
    },
    {
     "data": {
      "text/plain": [
       "19"
      ]
     },
     "execution_count": 126,
     "metadata": {},
     "output_type": "execute_result"
    }
   ],
   "source": [
    "count_users(data)"
   ]
  },
  {
   "cell_type": "code",
   "execution_count": 127,
   "metadata": {},
   "outputs": [],
   "source": [
    "#defines a function that counts the total of active users\n",
    "def active_count(user_data):\n",
    "    \n",
    "    #sets empty count variable\n",
    "    count = 0\n",
    "    \n",
    "    #iterates through each user in the file\n",
    "    for x in user_data:\n",
    "        #adds to the count if active, aka isActive is True\n",
    "        if x[\"isActive\"] == True:\n",
    "            count += 1\n",
    "            \n",
    "    print('The total number of active users is: ' + str(count))\n",
    "    return count"
   ]
  },
  {
   "cell_type": "code",
   "execution_count": 128,
   "metadata": {},
   "outputs": [
    {
     "name": "stdout",
     "output_type": "stream",
     "text": [
      "The total number of active users is: 9\n"
     ]
    },
    {
     "data": {
      "text/plain": [
       "9"
      ]
     },
     "execution_count": 128,
     "metadata": {},
     "output_type": "execute_result"
    }
   ],
   "source": [
    "active_count(data)"
   ]
  },
  {
   "cell_type": "code",
   "execution_count": 129,
   "metadata": {},
   "outputs": [],
   "source": [
    "#defines a function that counts the total of inactive users\n",
    "def inactive_count(user_data):\n",
    "    #sets an empty count variable\n",
    "    count = 0\n",
    "    \n",
    "    #iterates through each user in the file\n",
    "    for x in user_data:\n",
    "        #adds to count if the user is inactive\n",
    "        if x[\"isActive\"] == False:\n",
    "            count += 1\n",
    "    print('The total number of inactive users is: ' + str(count))\n",
    "    return count"
   ]
  },
  {
   "cell_type": "code",
   "execution_count": 130,
   "metadata": {},
   "outputs": [
    {
     "name": "stdout",
     "output_type": "stream",
     "text": [
      "The total number of inactive users is: 10\n"
     ]
    },
    {
     "data": {
      "text/plain": [
       "10"
      ]
     },
     "execution_count": 130,
     "metadata": {},
     "output_type": "execute_result"
    }
   ],
   "source": [
    "inactive_count(data)"
   ]
  },
  {
   "cell_type": "code",
   "execution_count": 145,
   "metadata": {},
   "outputs": [],
   "source": [
    "#defines a function that totals the balances of all users\n",
    "def total_balances(user_data):\n",
    "    \n",
    "    #sets an empty total variable\n",
    "    total = 0\n",
    "    \n",
    "    #iterates through each user in the file\n",
    "    for x in user_data:\n",
    "        \n",
    "        #stores the individual user balance in variable\n",
    "        bal_str = x['balance']\n",
    "        \n",
    "        #sets an empty variable to store the balance as a float later\n",
    "        bal_float = ''\n",
    "        \n",
    "        #iterates through the characters in the blance string\n",
    "        for y in bal_str:\n",
    "            \n",
    "            #only adds char to string if the value is a number or decimal\n",
    "            if y != '$' and y != \",\":\n",
    "                bal_float = bal_float + y\n",
    "        \n",
    "        #converts the balance to a float\n",
    "        bal_float = float(bal_float)\n",
    "        \n",
    "        #adds the balance to the total\n",
    "        total += bal_float\n",
    "        \n",
    "        #formats back to string in dollar format\n",
    "        total_str = \"${:,.2f}\".format(total)\n",
    "        \n",
    "    print('The total amount of balances owed amoung users is: ' + str(total_str))\n",
    "    \n",
    "    #returns original float value\n",
    "    return total"
   ]
  },
  {
   "cell_type": "code",
   "execution_count": 146,
   "metadata": {},
   "outputs": [
    {
     "name": "stdout",
     "output_type": "stream",
     "text": [
      "The total amount of balances owed amoung users is: $52,667.02\n"
     ]
    },
    {
     "data": {
      "text/plain": [
       "52667.02"
      ]
     },
     "execution_count": 146,
     "metadata": {},
     "output_type": "execute_result"
    }
   ],
   "source": [
    "total_balances(data)"
   ]
  },
  {
   "cell_type": "code",
   "execution_count": 147,
   "metadata": {},
   "outputs": [],
   "source": [
    "#defines a function to determine the average balance owed amoung all users\n",
    "def avg_balance(user_data):\n",
    "    \n",
    "    #sets total balance owed using function defined earlier\n",
    "    total = total_balances(user_data)\n",
    "    \n",
    "    #sets total users using function defined earlier\n",
    "    users = count_users(user_data)\n",
    "    \n",
    "    #calculates average by total balance owed divided by total users\n",
    "    avg = total / users\n",
    "    \n",
    "    #formats to string in dollar format\n",
    "    avg_str = \"${:,.2f}\".format(avg)\n",
    "    print('The average balance amoung all users is: ' + str(avg_str))\n",
    "    \n",
    "    #returns average in original float value\n",
    "    return avg"
   ]
  },
  {
   "cell_type": "code",
   "execution_count": 148,
   "metadata": {},
   "outputs": [
    {
     "name": "stdout",
     "output_type": "stream",
     "text": [
      "The total amount of balances owed amoung users is: $52,667.02\n",
      "The total number of active and inactive users is: 19\n",
      "The average balance amoung all users is: $2,771.95\n"
     ]
    },
    {
     "data": {
      "text/plain": [
       "2771.9484210526316"
      ]
     },
     "execution_count": 148,
     "metadata": {},
     "output_type": "execute_result"
    }
   ],
   "source": [
    "avg_balance(data)"
   ]
  },
  {
   "cell_type": "code",
   "execution_count": 176,
   "metadata": {},
   "outputs": [],
   "source": [
    "#defines a function to determine the lowest balance owed\n",
    "def lowest_balance(user_data):\n",
    "    \n",
    "    #iterates through users in file\n",
    "    for x in user_data:\n",
    "        #creates first balance for comparison to other balances\n",
    "        #whether or not it is the lowest is determined below\n",
    "        #cannot set the variable to 0, because no balance is lower than 0\n",
    "        low = x['balance']\n",
    "        #stops because we only need one value\n",
    "        break\n",
    "    \n",
    "    #iterates through the users again\n",
    "    for x in user_data:\n",
    "        #checks to see if lower than first balance\n",
    "        if x['balance'] < low:\n",
    "            #if lower, it sets that to the new low amount\n",
    "            low = x['balance']\n",
    "    \n",
    "    #no addition or subtraction is done, so no converting to integer was needed\n",
    "    #the variable stayed a string\n",
    "    print('The lowest balance amoung all users is: ' + low)\n",
    "    return low\n"
   ]
  },
  {
   "cell_type": "code",
   "execution_count": 177,
   "metadata": {},
   "outputs": [
    {
     "name": "stdout",
     "output_type": "stream",
     "text": [
      "The lowest balance amoung all users is: $1,214.10\n"
     ]
    },
    {
     "data": {
      "text/plain": [
       "'$1,214.10'"
      ]
     },
     "execution_count": 177,
     "metadata": {},
     "output_type": "execute_result"
    }
   ],
   "source": [
    "lowest_balance(data)"
   ]
  },
  {
   "cell_type": "code",
   "execution_count": 178,
   "metadata": {},
   "outputs": [],
   "source": [
    "#defines a function to find lowest balance owed\n",
    "def highest_balance(user_data):\n",
    "    \n",
    "    #iterates through users in file\n",
    "    for x in user_data:\n",
    "        #sets first balance to variable for comparison later\n",
    "        #does not need to be the highest, we will determine that below\n",
    "        high = x['balance']\n",
    "        #break because we only need one value\n",
    "        break\n",
    "        \n",
    "    #iterates through users again\n",
    "    for x in user_data:\n",
    "        #if value is higher, we reassign the variable\n",
    "        if x['balance'] > high:\n",
    "            high = x['balance']\n",
    "    \n",
    "    #no addition or subtraction is done, so no converting to integer was needed\n",
    "    #the variable stayed a string\n",
    "    print('The highest balance amoung all users is: ' + high)\n",
    "    return high"
   ]
  },
  {
   "cell_type": "code",
   "execution_count": 179,
   "metadata": {},
   "outputs": [
    {
     "name": "stdout",
     "output_type": "stream",
     "text": [
      "The highest balance amoung all users is: $3,919.64\n"
     ]
    },
    {
     "data": {
      "text/plain": [
       "'$3,919.64'"
      ]
     },
     "execution_count": 179,
     "metadata": {},
     "output_type": "execute_result"
    }
   ],
   "source": [
    "highest_balance(data)"
   ]
  },
  {
   "cell_type": "code",
   "execution_count": 5,
   "metadata": {},
   "outputs": [],
   "source": [
    "#the follwing function is the first step in determing what fruits are the favorite and least favorite\n",
    "def fruit_list(user_data):\n",
    "    #sets an empty list to add the names too\n",
    "    fruits = []\n",
    "    \n",
    "    #iterates through the users in the file\n",
    "    for x in user_data:\n",
    "        #adds to the list if in favoriteFruit column\n",
    "        fruits.append(x['favoriteFruit'])\n",
    "    return fruits"
   ]
  },
  {
   "cell_type": "code",
   "execution_count": 6,
   "metadata": {},
   "outputs": [
    {
     "data": {
      "text/plain": [
       "['strawberry',\n",
       " 'apple',\n",
       " 'banana',\n",
       " 'banana',\n",
       " 'apple',\n",
       " 'apple',\n",
       " 'banana',\n",
       " 'strawberry',\n",
       " 'strawberry',\n",
       " 'banana',\n",
       " 'strawberry',\n",
       " 'strawberry',\n",
       " 'apple',\n",
       " 'strawberry',\n",
       " 'strawberry',\n",
       " 'banana',\n",
       " 'strawberry',\n",
       " 'banana',\n",
       " 'strawberry']"
      ]
     },
     "execution_count": 6,
     "metadata": {},
     "output_type": "execute_result"
    }
   ],
   "source": [
    "fruit_list(data)"
   ]
  },
  {
   "cell_type": "code",
   "execution_count": 181,
   "metadata": {},
   "outputs": [],
   "source": [
    "#this function counts how many of each fruit is a favorite into a dictionary\n",
    "def fruit_count(user_data):\n",
    "    \n",
    "    #sets an empty dictionary to add the fruit names and counts to\n",
    "    fruits = {}\n",
    "    \n",
    "    #iterates through the users\n",
    "    for x in user_data:\n",
    "        #adds the fruit name to the dictionary if not already added\n",
    "        fruits.update( {x['favoriteFruit'] : 0} )\n",
    "        \n",
    "    #iterates through the dictionary fruits we just created\n",
    "    for y in fruits:\n",
    "        #sets empty count variable for each fruit name\n",
    "        count = 0\n",
    "        #iterates through the fruits in each user\n",
    "        for x in user_data:\n",
    "            #if the value matched the fruit in fruits, it adds to the count\n",
    "            if y == x['favoriteFruit']:\n",
    "                count += 1\n",
    "        #the count is updated for each fruit name, then set back to 0 for the next one\n",
    "        fruits.update( {y : count} )   \n",
    "        \n",
    "    return fruits"
   ]
  },
  {
   "cell_type": "code",
   "execution_count": 182,
   "metadata": {},
   "outputs": [
    {
     "data": {
      "text/plain": [
       "{'strawberry': 9, 'apple': 4, 'banana': 6}"
      ]
     },
     "execution_count": 182,
     "metadata": {},
     "output_type": "execute_result"
    }
   ],
   "source": [
    "fruit_count(data)"
   ]
  },
  {
   "cell_type": "code",
   "execution_count": 183,
   "metadata": {},
   "outputs": [],
   "source": [
    "#this function takes the dictionary we created above to find the most favorite\n",
    "def fav_fruit(user_data):\n",
    "    \n",
    "    #we create the fruits dictionary with the function above\n",
    "    fruits = fruit_count(data)\n",
    "    \n",
    "    #we cannot just do max(dictionary), this returns the max key name, not value\n",
    "    #this line finds the max based on the key value, then returns the key name associated with it\n",
    "    max_key = max(fruits, key=lambda k: fruits[k])\n",
    "    return max_key"
   ]
  },
  {
   "cell_type": "code",
   "execution_count": 184,
   "metadata": {},
   "outputs": [
    {
     "data": {
      "text/plain": [
       "'strawberry'"
      ]
     },
     "execution_count": 184,
     "metadata": {},
     "output_type": "execute_result"
    }
   ],
   "source": [
    "fav_fruit(data)"
   ]
  },
  {
   "cell_type": "code",
   "execution_count": 185,
   "metadata": {},
   "outputs": [],
   "source": [
    "#this function takes the dictionary we created above to find the least favorite\n",
    "def least_fav_fruit(user_data):\n",
    "    \n",
    "    #we create the fruits dictionary with a previous function\n",
    "    fruits = fruit_count(data)\n",
    "    \n",
    "    #we cannot just do min(dictionary), this returns the min key name, not value\n",
    "    #this line finds the min based on the key value, then returns the key name associated with it\n",
    "    min_key = min(fruits, key=lambda k: fruits[k])\n",
    "    return min_key"
   ]
  },
  {
   "cell_type": "code",
   "execution_count": 186,
   "metadata": {},
   "outputs": [
    {
     "data": {
      "text/plain": [
       "'apple'"
      ]
     },
     "execution_count": 186,
     "metadata": {},
     "output_type": "execute_result"
    }
   ],
   "source": [
    "least_fav_fruit(data)"
   ]
  },
  {
   "cell_type": "code",
   "execution_count": 114,
   "metadata": {},
   "outputs": [],
   "source": [
    "#this function counts the total amount of unread messages amoung all users\n",
    "def unread_messages(user_data):\n",
    "    \n",
    "    #creates a set of all numbers, to compare with later\n",
    "    numbers = set('1234567890')\n",
    "    \n",
    "    #sets empty count variable\n",
    "    count = 0\n",
    "    \n",
    "    #iterates through each user in the file\n",
    "    for x in user_data:\n",
    "        \n",
    "        #only checks message count if unread\n",
    "        if 'unread' in x['greeting']:\n",
    "            \n",
    "            #sets empty variable for number as string\n",
    "            number = ''\n",
    "            \n",
    "            #iterates through each character in the greeting string\n",
    "            for char in x['greeting']:\n",
    "                #only adds char to number if in set numbers, ignores other characters\n",
    "                if char in numbers:\n",
    "                    number = number + char\n",
    "                    \n",
    "            #converts the number for each greeting to integer\n",
    "            number = int(number)\n",
    "            \n",
    "            #adds to count\n",
    "            count += number\n",
    "    return count"
   ]
  },
  {
   "cell_type": "code",
   "execution_count": 115,
   "metadata": {},
   "outputs": [
    {
     "data": {
      "text/plain": [
       "210"
      ]
     },
     "execution_count": 115,
     "metadata": {},
     "output_type": "execute_result"
    }
   ],
   "source": [
    "unread_messages(data)"
   ]
  }
 ],
 "metadata": {
  "kernelspec": {
   "display_name": "Python 3",
   "language": "python",
   "name": "python3"
  },
  "language_info": {
   "codemirror_mode": {
    "name": "ipython",
    "version": 3
   },
   "file_extension": ".py",
   "mimetype": "text/x-python",
   "name": "python",
   "nbconvert_exporter": "python",
   "pygments_lexer": "ipython3",
   "version": "3.7.6"
  }
 },
 "nbformat": 4,
 "nbformat_minor": 4
}
